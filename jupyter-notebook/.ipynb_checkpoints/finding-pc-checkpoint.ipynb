{
 "cells": [
  {
   "cell_type": "markdown",
   "metadata": {},
   "source": [
    "# Finding critical point $p_c$"
   ]
  },
  {
   "cell_type": "code",
   "execution_count": 11,
   "metadata": {},
   "outputs": [],
   "source": [
    "import os\n",
    "import json\n",
    "import numpy as np\n",
    "import seaborn as sns\n",
    "import matplotlib.pyplot  as plt\n",
    "import scipy.stats as stats\n",
    "import glob"
   ]
  },
  {
   "cell_type": "code",
   "execution_count": 12,
   "metadata": {},
   "outputs": [],
   "source": [
    "sns.set()"
   ]
  },
  {
   "cell_type": "code",
   "execution_count": 5,
   "metadata": {},
   "outputs": [
    {
     "data": {
      "text/plain": [
       "['sq_lattice_site_percolation_periodic__critical_L300_.txt',\n",
       " 'sq_lattice_site_percolation_periodic__critical_L100_.txt',\n",
       " 'sq_lattice_site_percolation_periodic__critical_L400_.txt',\n",
       " 'sq_lattice_site_percolation_periodic__critical_L200_.txt',\n",
       " 'append-together.py',\n",
       " 'sq_lattice_site_percolation_periodic__critical_L350_.txt',\n",
       " 'sq_lattice_site_percolation_periodic__critical_L250_.txt',\n",
       " 'sq_lattice_site_percolation_periodic__critical_L150_.txt']"
      ]
     },
     "execution_count": 5,
     "metadata": {},
     "output_type": "execute_result"
    }
   ],
   "source": [
    "root = '../data/site-percolation/critical/'\n",
    "os.listdir(root)"
   ]
  },
  {
   "cell_type": "code",
   "execution_count": 6,
   "metadata": {},
   "outputs": [],
   "source": [
    "signature = \"sq_lattice_site_percolation_periodic\"\n",
    "files = glob.glob(root + signature + \"*\")"
   ]
  },
  {
   "cell_type": "code",
   "execution_count": 7,
   "metadata": {},
   "outputs": [
    {
     "data": {
      "text/plain": [
       "['../data/site-percolation/critical/sq_lattice_site_percolation_periodic__critical_L300_.txt',\n",
       " '../data/site-percolation/critical/sq_lattice_site_percolation_periodic__critical_L100_.txt',\n",
       " '../data/site-percolation/critical/sq_lattice_site_percolation_periodic__critical_L400_.txt',\n",
       " '../data/site-percolation/critical/sq_lattice_site_percolation_periodic__critical_L200_.txt',\n",
       " '../data/site-percolation/critical/sq_lattice_site_percolation_periodic__critical_L350_.txt',\n",
       " '../data/site-percolation/critical/sq_lattice_site_percolation_periodic__critical_L250_.txt',\n",
       " '../data/site-percolation/critical/sq_lattice_site_percolation_periodic__critical_L150_.txt']"
      ]
     },
     "execution_count": 7,
     "metadata": {},
     "output_type": "execute_result"
    }
   ],
   "source": [
    "files"
   ]
  },
  {
   "cell_type": "code",
   "execution_count": 8,
   "metadata": {},
   "outputs": [],
   "source": [
    "data = []\n",
    "for file in files:\n",
    "    with open(file) as f:\n",
    "        line = f.readline()\n",
    "        head = json.loads(line[1:])\n",
    "        L = int(head['length'])\n",
    "    pcs = np.loadtxt(file, usecols=(0,))\n",
    "    pc = np.mean(pcs)\n",
    "    data.append([L, pc])\n",
    "    pass"
   ]
  },
  {
   "cell_type": "code",
   "execution_count": 16,
   "metadata": {},
   "outputs": [
    {
     "data": {
      "text/plain": [
       "Text(0, 0.5, '$p_c$')"
      ]
     },
     "execution_count": 16,
     "metadata": {},
     "output_type": "execute_result"
    },
    {
     "data": {
      "image/png": "[encoded data removed]",
      "text/plain": [
       "<Figure size 432x288 with 1 Axes>"
      ]
     },
     "metadata": {},
     "output_type": "display_data"
    }
   ],
   "source": [
    "data = np.array(data)\n",
    "plt.plot(data[:,0], data[:,1], 'o')\n",
    "plt.title(r\"$p_c$ vs $L$\")\n",
    "plt.xlabel(r\"$L$\")\n",
    "plt.ylabel(r\"$p_c$\")"
   ]
  },
  {
   "cell_type": "markdown",
   "metadata": {},
   "source": [
    "\n",
    "### It is evident that increasing system size gets you closer to the critical point\n",
    "\n",
    "It flows the relation\n",
    "\n",
    "$(p(L)-p_c(\\infty)) L ^{1/\\nu} = const $\n",
    "\n",
    "$(p(L)-p_c) \\sim L ^{-1/\\nu}$\n",
    "\n",
    "$(p(L)-p_c(\\infty)) \\sim (L^{-1})^{1/\\nu}$\n",
    "\n",
    "In the limit $L\\rightarrow \\infty$, $p(L) = p(\\infty)$"
   ]
  },
  {
   "cell_type": "code",
   "execution_count": 44,
   "metadata": {},
   "outputs": [
    {
     "data": {
      "text/plain": [
       "Text(0, 0.5, '$p_c$')"
      ]
     },
     "execution_count": 44,
     "metadata": {},
     "output_type": "execute_result"
    },
    {
     "data": {
      "image/png": "[encoded data removed]",
      "text/plain": [
       "<Figure size 432x288 with 1 Axes>"
      ]
     },
     "metadata": {},
     "output_type": "display_data"
    }
   ],
   "source": [
    "x = data[:,0]**(-1)\n",
    "plt.plot(x, data[:,1], 'o')\n",
    "regress = stats.linregress(x, data[:,1])\n",
    "x = np.linspace(0.01, 0.001, 10)\n",
    "y = x*regress[0] + regress[1]\n",
    "plt.plot(x, y)\n",
    "\n",
    "plt.xlabel(r\"$L^{-1}$\")\n",
    "plt.ylabel(r\"$p_c$\")"
   ]
  },
  {
   "cell_type": "code",
   "execution_count": null,
   "metadata": {},
   "outputs": [],
   "source": []
  },
  {
   "cell_type": "code",
   "execution_count": 45,
   "metadata": {},
   "outputs": [
    {
     "name": "stdout",
     "output_type": "stream",
     "text": [
      "intercept is the pc\n",
      "0.5916301140473662\n"
     ]
    }
   ],
   "source": [
    "print(\"intercept is the pc\")\n",
    "print(regress[1])"
   ]
  },
  {
   "cell_type": "code",
   "execution_count": null,
   "metadata": {},
   "outputs": [],
   "source": []
  }
 ],
 "metadata": {
  "kernelspec": {
   "display_name": "Python 3",
   "language": "python",
   "name": "python3"
  },
  "language_info": {
   "codemirror_mode": {
    "name": "ipython",
    "version": 3
   },
   "file_extension": ".py",
   "mimetype": "text/x-python",
   "name": "python",
   "nbconvert_exporter": "python",
   "pygments_lexer": "ipython3",
   "version": "3.6.8"
  }
 },
 "nbformat": 4,
 "nbformat_minor": 2
}
