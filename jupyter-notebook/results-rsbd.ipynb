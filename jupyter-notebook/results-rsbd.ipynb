{
 "cells": [
  {
   "cell_type": "code",
   "execution_count": 1,
   "metadata": {},
   "outputs": [],
   "source": [
    "def find_exponents(one_by_nu, alpha_by_nu, beta_by_nu, gamma_by_nu):\n",
    "    print(\"alpha = \", alpha_by_nu/one_by_nu)\n",
    "    print(\"beta = \", beta_by_nu/one_by_nu)\n",
    "    print(\"gamma = \", gamma_by_nu/one_by_nu)\n",
    "    print(\"Rushbrooke  Inequality = \", end='')\n",
    "    enql = (alpha_by_nu + 2 * beta_by_nu + gamma_by_nu) / one_by_nu\n",
    "    print(enql)\n",
    "    return alpha_by_nu/one_by_nu, beta_by_nu/one_by_nu, gamma_by_nu/one_by_nu, enql"
   ]
  },
  {
   "cell_type": "code",
   "execution_count": 2,
   "metadata": {},
   "outputs": [],
   "source": [
    "import pandas as pd\n",
    "frame = pd.DataFrame(columns=['pc', '1/nu', 'alpha', 'beta', 'gamma', 'inequality'], index=['L0', 'L1', 'L2'])"
   ]
  },
  {
   "cell_type": "code",
   "execution_count": 3,
   "metadata": {},
   "outputs": [],
   "source": [
    "## length used\n",
    "## 500, 1000"
   ]
  },
  {
   "cell_type": "markdown",
   "metadata": {},
   "source": [
    "### Regular site percolation or L0"
   ]
  },
  {
   "cell_type": "code",
   "execution_count": 3,
   "metadata": {},
   "outputs": [
    {
     "name": "stdout",
     "output_type": "stream",
     "text": [
      "pc =  0.5927\n",
      "1/nu =  0.75\n",
      "alpha =  0.9065333333333333\n",
      "beta =  0.13733333333333334\n",
      "gamma =  0.85428\n",
      "Rushbrooke  Inequality = 2.0354799999999997\n",
      "fractal dimension = 1.8939097680181307\n"
     ]
    }
   ],
   "source": [
    "pc = 0.5927\n",
    "one_by_nu = 0.75\n",
    "alpha_by_nu = 0.6799\n",
    "beta_by_nu = 0.103\n",
    "gamma_by_nu = 0.64071 # todo ~0.64\n",
    "df = 1.8939097680181307  # fractal dimension\n",
    "\n",
    "\n",
    "print(\"pc = \", pc)\n",
    "print(\"1/nu = \", one_by_nu)\n",
    "ex = find_exponents(one_by_nu, alpha_by_nu, beta_by_nu, gamma_by_nu)\n",
    "print(\"fractal dimension =\", df)\n",
    "\n",
    "frame['pc']['L0'] = pc\n",
    "frame['1/nu']['L0'] = one_by_nu\n",
    "frame['alpha']['L0'] = ex[0]\n",
    "frame['beta']['L0'] = ex[1]\n",
    "frame['gamma']['L0'] = ex[2]\n",
    "frame['inequality']['L0'] = ex[3]"
   ]
  },
  {
   "cell_type": "code",
   "execution_count": 4,
   "metadata": {},
   "outputs": [
    {
     "data": {
      "text/html": [
       "<div>\n",
       "<style scoped>\n",
       "    .dataframe tbody tr th:only-of-type {\n",
       "        vertical-align: middle;\n",
       "    }\n",
       "\n",
       "    .dataframe tbody tr th {\n",
       "        vertical-align: top;\n",
       "    }\n",
       "\n",
       "    .dataframe thead th {\n",
       "        text-align: right;\n",
       "    }\n",
       "</style>\n",
       "<table border=\"1\" class=\"dataframe\">\n",
       "  <thead>\n",
       "    <tr style=\"text-align: right;\">\n",
       "      <th></th>\n",
       "      <th>pc</th>\n",
       "      <th>1/nu</th>\n",
       "      <th>alpha</th>\n",
       "      <th>beta</th>\n",
       "      <th>gamma</th>\n",
       "      <th>inequality</th>\n",
       "    </tr>\n",
       "  </thead>\n",
       "  <tbody>\n",
       "    <tr>\n",
       "      <th>L0</th>\n",
       "      <td>0.5927</td>\n",
       "      <td>0.75</td>\n",
       "      <td>0.906533</td>\n",
       "      <td>0.137333</td>\n",
       "      <td>0.85428</td>\n",
       "      <td>2.03548</td>\n",
       "    </tr>\n",
       "    <tr>\n",
       "      <th>L1</th>\n",
       "      <td>NaN</td>\n",
       "      <td>NaN</td>\n",
       "      <td>NaN</td>\n",
       "      <td>NaN</td>\n",
       "      <td>NaN</td>\n",
       "      <td>NaN</td>\n",
       "    </tr>\n",
       "    <tr>\n",
       "      <th>L2</th>\n",
       "      <td>NaN</td>\n",
       "      <td>NaN</td>\n",
       "      <td>NaN</td>\n",
       "      <td>NaN</td>\n",
       "      <td>NaN</td>\n",
       "      <td>NaN</td>\n",
       "    </tr>\n",
       "  </tbody>\n",
       "</table>\n",
       "</div>"
      ],
      "text/plain": [
       "        pc  1/nu     alpha      beta    gamma inequality\n",
       "L0  0.5927  0.75  0.906533  0.137333  0.85428    2.03548\n",
       "L1     NaN   NaN       NaN       NaN      NaN        NaN\n",
       "L2     NaN   NaN       NaN       NaN      NaN        NaN"
      ]
     },
     "execution_count": 4,
     "metadata": {},
     "output_type": "execute_result"
    }
   ],
   "source": [
    "frame"
   ]
  },
  {
   "cell_type": "markdown",
   "metadata": {},
   "source": [
    "### L1"
   ]
  },
  {
   "cell_type": "code",
   "execution_count": 1,
   "metadata": {},
   "outputs": [
    {
     "name": "stdout",
     "output_type": "stream",
     "text": [
      "pc =  0.5782\n",
      "1/nu =  0.736\n"
     ]
    },
    {
     "ename": "NameError",
     "evalue": "name 'find_exponents' is not defined",
     "output_type": "error",
     "traceback": [
      "\u001b[0;31m---------------------------------------------------------------------------\u001b[0m",
      "\u001b[0;31mNameError\u001b[0m                                 Traceback (most recent call last)",
      "\u001b[0;32m<ipython-input-1-533b4677fd44>\u001b[0m in \u001b[0;36m<module>\u001b[0;34m()\u001b[0m\n\u001b[1;32m     11\u001b[0m \u001b[0mprint\u001b[0m\u001b[0;34m(\u001b[0m\u001b[0;34m\"pc = \"\u001b[0m\u001b[0;34m,\u001b[0m \u001b[0mpc\u001b[0m\u001b[0;34m)\u001b[0m\u001b[0;34m\u001b[0m\u001b[0m\n\u001b[1;32m     12\u001b[0m \u001b[0mprint\u001b[0m\u001b[0;34m(\u001b[0m\u001b[0;34m\"1/nu = \"\u001b[0m\u001b[0;34m,\u001b[0m \u001b[0mone_by_nu\u001b[0m\u001b[0;34m)\u001b[0m\u001b[0;34m\u001b[0m\u001b[0m\n\u001b[0;32m---> 13\u001b[0;31m \u001b[0mfind_exponents\u001b[0m\u001b[0;34m(\u001b[0m\u001b[0mone_by_nu\u001b[0m\u001b[0;34m,\u001b[0m \u001b[0malpha_by_nu\u001b[0m\u001b[0;34m,\u001b[0m \u001b[0mbeta_by_nu\u001b[0m\u001b[0;34m,\u001b[0m \u001b[0mgamma_by_nu\u001b[0m\u001b[0;34m)\u001b[0m\u001b[0;34m\u001b[0m\u001b[0m\n\u001b[0m\u001b[1;32m     14\u001b[0m \u001b[0mprint\u001b[0m\u001b[0;34m(\u001b[0m\u001b[0;34m\"pc = \"\u001b[0m\u001b[0;34m,\u001b[0m \u001b[0mpc\u001b[0m\u001b[0;34m)\u001b[0m\u001b[0;34m\u001b[0m\u001b[0m\n\u001b[1;32m     15\u001b[0m \u001b[0mprint\u001b[0m\u001b[0;34m(\u001b[0m\u001b[0;34m\"1/nu = \"\u001b[0m\u001b[0;34m,\u001b[0m \u001b[0mone_by_nu\u001b[0m\u001b[0;34m)\u001b[0m\u001b[0;34m\u001b[0m\u001b[0m\n",
      "\u001b[0;31mNameError\u001b[0m: name 'find_exponents' is not defined"
     ]
    }
   ],
   "source": [
    "\n",
    "pc = 0.5782\n",
    "one_by_nu = 0.736 # 0.736, 0.739\n",
    "\n",
    "\n",
    "## 1st convolution\n",
    "alpha_by_nu = 0.6712\n",
    "beta_by_nu = 0.1026\n",
    "gamma_by_nu = 0.6287\n",
    "\n",
    "print(\"pc = \", pc)\n",
    "print(\"1/nu = \", one_by_nu)\n",
    "find_exponents(one_by_nu, alpha_by_nu, beta_by_nu, gamma_by_nu)\n",
    "print(\"pc = \", pc)\n",
    "print(\"1/nu = \", one_by_nu)\n",
    "ex = find_exponents(one_by_nu, alpha_by_nu, beta_by_nu, gamma_by_nu)\n",
    "df = 1.899484255971161\n",
    "print(\"fractal dimension =\", df)\n",
    "\n",
    "frame['pc']['L1'] = pc\n",
    "frame['1/nu']['L1'] = one_by_nu\n",
    "frame['alpha']['L1'] = ex[0]\n",
    "frame['beta']['L1'] = ex[1]\n",
    "frame['gamma']['L1'] = ex[2]\n",
    "frame['inequality']['L1'] = ex[3]\n",
    "\n",
    "\n",
    "## 2nd convolution\n",
    "# print(\"2nd convolution **************************************\")\n",
    "# alpha_by_nu = 0.671\n",
    "# beta_by_nu = 0.096\n",
    "# gamma_by_nu = 0.655\n",
    "\n",
    "# print(\"pc = \", pc)\n",
    "# print(\"1/nu = \", one_by_nu)\n",
    "# find_exponents(one_by_nu, alpha_by_nu, beta_by_nu, gamma_by_nu)"
   ]
  },
  {
   "cell_type": "markdown",
   "metadata": {},
   "source": [
    "### L2"
   ]
  },
  {
   "cell_type": "code",
   "execution_count": 2,
   "metadata": {},
   "outputs": [
    {
     "name": "stdout",
     "output_type": "stream",
     "text": [
      "pc =  0.5701\n",
      "1/nu =  0.721\n"
     ]
    },
    {
     "ename": "NameError",
     "evalue": "name 'find_exponents' is not defined",
     "output_type": "error",
     "traceback": [
      "\u001b[0;31m---------------------------------------------------------------------------\u001b[0m",
      "\u001b[0;31mNameError\u001b[0m                                 Traceback (most recent call last)",
      "\u001b[0;32m<ipython-input-2-acdf087a969f>\u001b[0m in \u001b[0;36m<module>\u001b[0;34m()\u001b[0m\n\u001b[1;32m     10\u001b[0m \u001b[0mprint\u001b[0m\u001b[0;34m(\u001b[0m\u001b[0;34m\"pc = \"\u001b[0m\u001b[0;34m,\u001b[0m \u001b[0mpc\u001b[0m\u001b[0;34m)\u001b[0m\u001b[0;34m\u001b[0m\u001b[0m\n\u001b[1;32m     11\u001b[0m \u001b[0mprint\u001b[0m\u001b[0;34m(\u001b[0m\u001b[0;34m\"1/nu = \"\u001b[0m\u001b[0;34m,\u001b[0m \u001b[0mone_by_nu\u001b[0m\u001b[0;34m)\u001b[0m\u001b[0;34m\u001b[0m\u001b[0m\n\u001b[0;32m---> 12\u001b[0;31m \u001b[0mex\u001b[0m \u001b[0;34m=\u001b[0m \u001b[0mfind_exponents\u001b[0m\u001b[0;34m(\u001b[0m\u001b[0mone_by_nu\u001b[0m\u001b[0;34m,\u001b[0m \u001b[0malpha_by_nu\u001b[0m\u001b[0;34m,\u001b[0m \u001b[0mbeta_by_nu\u001b[0m\u001b[0;34m,\u001b[0m \u001b[0mgamma_by_nu\u001b[0m\u001b[0;34m)\u001b[0m\u001b[0;34m\u001b[0m\u001b[0m\n\u001b[0m\u001b[1;32m     13\u001b[0m \u001b[0mdf\u001b[0m \u001b[0;34m=\u001b[0m \u001b[0;36m1.9081092074167232\u001b[0m\u001b[0;34m\u001b[0m\u001b[0m\n\u001b[1;32m     14\u001b[0m \u001b[0mprint\u001b[0m\u001b[0;34m(\u001b[0m\u001b[0;34m\"fractal dimension =\"\u001b[0m\u001b[0;34m,\u001b[0m \u001b[0mdf\u001b[0m\u001b[0;34m)\u001b[0m\u001b[0;34m\u001b[0m\u001b[0m\n",
      "\u001b[0;31mNameError\u001b[0m: name 'find_exponents' is not defined"
     ]
    }
   ],
   "source": [
    "\n",
    "pc = 0.5701  # more accurate\n",
    "one_by_nu = 0.721# effect of new\n",
    "\n",
    "## 1st convolution\n",
    "alpha_by_nu = 0.6631 # fine tuning\n",
    "beta_by_nu = 0.0982 # fine tuning\n",
    "gamma_by_nu = 0.6362\n",
    "\n",
    "print(\"pc = \", pc)\n",
    "print(\"1/nu = \", one_by_nu)\n",
    "ex = find_exponents(one_by_nu, alpha_by_nu, beta_by_nu, gamma_by_nu)\n",
    "df = 1.9081092074167232\n",
    "print(\"fractal dimension =\", df)\n",
    "\n",
    "frame['pc']['L2'] = pc\n",
    "frame['1/nu']['L2'] = one_by_nu\n",
    "frame['alpha']['L2'] = ex[0]\n",
    "frame['beta']['L2'] = ex[1]\n",
    "frame['gamma']['L2'] = ex[2]\n",
    "frame['inequality']['L2'] = ex[3]\n",
    "\n",
    "\n",
    "## 2nd convolution\n",
    "# print(\"2nd convolution *******************************************\")\n",
    "# alpha_by_nu = 0.668\n",
    "# beta_by_nu = 0.0945\n",
    "# gamma_by_nu = 0.63\n",
    "\n",
    "# print(\"pc = \", pc)\n",
    "# print(\"1/nu = \", one_by_nu)\n",
    "# find_exponents(one_by_nu, alpha_by_nu, beta_by_nu, gamma_by_nu)"
   ]
  },
  {
   "cell_type": "markdown",
   "metadata": {},
   "source": [
    "### Info"
   ]
  },
  {
   "cell_type": "code",
   "execution_count": 7,
   "metadata": {},
   "outputs": [
    {
     "data": {
      "text/html": [
       "<div>\n",
       "<style scoped>\n",
       "    .dataframe tbody tr th:only-of-type {\n",
       "        vertical-align: middle;\n",
       "    }\n",
       "\n",
       "    .dataframe tbody tr th {\n",
       "        vertical-align: top;\n",
       "    }\n",
       "\n",
       "    .dataframe thead th {\n",
       "        text-align: right;\n",
       "    }\n",
       "</style>\n",
       "<table border=\"1\" class=\"dataframe\">\n",
       "  <thead>\n",
       "    <tr style=\"text-align: right;\">\n",
       "      <th></th>\n",
       "      <th>pc</th>\n",
       "      <th>1/nu</th>\n",
       "      <th>alpha</th>\n",
       "      <th>beta</th>\n",
       "      <th>gamma</th>\n",
       "      <th>inequality</th>\n",
       "    </tr>\n",
       "  </thead>\n",
       "  <tbody>\n",
       "    <tr>\n",
       "      <th>L0</th>\n",
       "      <td>0.5927</td>\n",
       "      <td>0.75</td>\n",
       "      <td>0.906533</td>\n",
       "      <td>0.137333</td>\n",
       "      <td>0.85428</td>\n",
       "      <td>2.03548</td>\n",
       "    </tr>\n",
       "    <tr>\n",
       "      <th>L1</th>\n",
       "      <td>0.5782</td>\n",
       "      <td>0.736</td>\n",
       "      <td>0.911957</td>\n",
       "      <td>0.139402</td>\n",
       "      <td>0.854212</td>\n",
       "      <td>2.04497</td>\n",
       "    </tr>\n",
       "    <tr>\n",
       "      <th>L2</th>\n",
       "      <td>0.5701</td>\n",
       "      <td>0.721</td>\n",
       "      <td>0.919695</td>\n",
       "      <td>0.1362</td>\n",
       "      <td>0.882386</td>\n",
       "      <td>2.07448</td>\n",
       "    </tr>\n",
       "  </tbody>\n",
       "</table>\n",
       "</div>"
      ],
      "text/plain": [
       "        pc   1/nu     alpha      beta     gamma inequality\n",
       "L0  0.5927   0.75  0.906533  0.137333   0.85428    2.03548\n",
       "L1  0.5782  0.736  0.911957  0.139402  0.854212    2.04497\n",
       "L2  0.5701  0.721  0.919695    0.1362  0.882386    2.07448"
      ]
     },
     "execution_count": 7,
     "metadata": {},
     "output_type": "execute_result"
    }
   ],
   "source": [
    "frame"
   ]
  },
  {
   "cell_type": "code",
   "execution_count": null,
   "metadata": {},
   "outputs": [],
   "source": []
  },
  {
   "cell_type": "markdown",
   "metadata": {},
   "source": [
    "## From Data \"data-rsbd-2019.06\""
   ]
  },
  {
   "cell_type": "markdown",
   "metadata": {},
   "source": [
    "#### L1"
   ]
  },
  {
   "cell_type": "code",
   "execution_count": 3,
   "metadata": {},
   "outputs": [],
   "source": [
    "gamma_by_nu = 0.6381816032621852\n",
    "alpha_by_nu = 0.6467038359751919\n",
    "one_by_nu = 0.736 \n",
    "beta_by_nu = 0.1026"
   ]
  },
  {
   "cell_type": "code",
   "execution_count": 4,
   "metadata": {},
   "outputs": [
    {
     "data": {
      "text/plain": [
       "2.0245726076594797"
      ]
     },
     "execution_count": 4,
     "metadata": {},
     "output_type": "execute_result"
    }
   ],
   "source": [
    "(alpha_by_nu + 2*beta_by_nu + gamma_by_nu) / one_by_nu"
   ]
  },
  {
   "cell_type": "markdown",
   "metadata": {},
   "source": [
    "#### L2"
   ]
  },
  {
   "cell_type": "code",
   "execution_count": 5,
   "metadata": {},
   "outputs": [],
   "source": [
    "alpha_by_nu = 0.6455275801529577\n",
    "gamma_by_nu = 0.6332794281930978\n",
    "one_by_nu = 0.721\n",
    "beta_by_nu = 0.0982"
   ]
  },
  {
   "cell_type": "code",
   "execution_count": 6,
   "metadata": {},
   "outputs": [
    {
     "data": {
      "text/plain": [
       "2.046056877040299"
      ]
     },
     "execution_count": 6,
     "metadata": {},
     "output_type": "execute_result"
    }
   ],
   "source": [
    "(alpha_by_nu + 2*beta_by_nu + gamma_by_nu) / one_by_nu"
   ]
  },
  {
   "cell_type": "markdown",
   "metadata": {},
   "source": [
    "Rushbrook inequality is very good but exponents have changed"
   ]
  },
  {
   "cell_type": "markdown",
   "metadata": {},
   "source": [
    "## From Data \"data-2019.07.08\""
   ]
  },
  {
   "cell_type": "markdown",
   "metadata": {},
   "source": [
    "#### L0"
   ]
  },
  {
   "cell_type": "code",
   "execution_count": 7,
   "metadata": {},
   "outputs": [],
   "source": [
    "alpha_by_nu = 0.6587952371682433 # original alpha_by_nu = 0.6799\n",
    "gamma_by_nu = 0.6468076340146306 # original gamma_by_nu = 0.64071 # todo ~0.64\n",
    "one_by_nu = 0.75\n",
    "beta_by_nu = 0.103"
   ]
  },
  {
   "cell_type": "code",
   "execution_count": 8,
   "metadata": {},
   "outputs": [
    {
     "data": {
      "text/plain": [
       "2.0154704949104985"
      ]
     },
     "execution_count": 8,
     "metadata": {},
     "output_type": "execute_result"
    }
   ],
   "source": [
    "(alpha_by_nu + 2*beta_by_nu + gamma_by_nu) / one_by_nu"
   ]
  },
  {
   "cell_type": "code",
   "execution_count": null,
   "metadata": {},
   "outputs": [],
   "source": []
  },
  {
   "cell_type": "code",
   "execution_count": null,
   "metadata": {},
   "outputs": [],
   "source": []
  }
 ],
 "metadata": {
  "kernelspec": {
   "display_name": "Python 3",
   "language": "python",
   "name": "python3"
  },
  "language_info": {
   "codemirror_mode": {
    "name": "ipython",
    "version": 3
   },
   "file_extension": ".py",
   "mimetype": "text/x-python",
   "name": "python",
   "nbconvert_exporter": "python",
   "pygments_lexer": "ipython3",
   "version": "3.6.8"
  }
 },
 "nbformat": 4,
 "nbformat_minor": 2
}
